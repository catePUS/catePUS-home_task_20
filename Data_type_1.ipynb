{
 "cells": [
  {
   "cell_type": "markdown",
   "metadata": {},
   "source": [
    "Task 1"
   ]
  },
  {
   "cell_type": "code",
   "execution_count": 2,
   "metadata": {},
   "outputs": [
    {
     "output_type": "stream",
     "name": "stdout",
     "text": [
      "1\n"
     ]
    }
   ],
   "source": [
    "word=input('Enter the word ')\n",
    "if len(word) % 2==1:\n",
    "    index = len(word)//2\n",
    "    print(word[index])\n",
    "else:\n",
    "    index2 = len(word)//2\n",
    "    index1 = index2-1\n",
    "    print(word[index1:index2+1])\n"
   ]
  },
  {
   "cell_type": "markdown",
   "metadata": {},
   "source": [
    "Task 2"
   ]
  },
  {
   "cell_type": "code",
   "execution_count": 5,
   "metadata": {},
   "outputs": [
    {
     "output_type": "stream",
     "name": "stdout",
     "text": [
      "Result:\n 36\n"
     ]
    }
   ],
   "source": [
    "sum_digit=0\n",
    "digit=int(input('Enter number: \\n'))\n",
    "sum_digit += digit \n",
    "while digit != 0:\n",
    "    digit=int(input('Enter number: \\n'))\n",
    "    sum_digit += digit\n",
    "    \n",
    "print(f'Result:\\n {sum_digit}')\n"
   ]
  },
  {
   "cell_type": "markdown",
   "metadata": {},
   "source": [
    "Task 3"
   ]
  },
  {
   "cell_type": "code",
   "execution_count": 6,
   "metadata": {},
   "outputs": [
    {
     "output_type": "stream",
     "name": "stdout",
     "text": [
      "Идеальные пары:\nAlex и Emma\nArthur и Kate\nJohn и Kira\nPeter и Liza\nRichard и Trisha\n"
     ]
    }
   ],
   "source": [
    "boys = ['Peter', 'Alex', 'John', 'Arthur', 'Richard']\n",
    "girls = ['Kate', 'Liza', 'Kira', 'Emma', 'Trisha']\n",
    "if len(boys) == len(girls):\n",
    "    sort_boys = sorted(boys)\n",
    "    sort_girls = sorted(girls)\n",
    "    print('Идеальные пары:')\n",
    "    \n",
    "    perfect_couple = list(zip(sort_boys,sort_girls))\n",
    "    for pair in perfect_couple:\n",
    "        print(f'{pair[0]} и {pair[1]}')\n",
    "else:\n",
    "    print('Внимание, кто-то может остаться без пары!')\n",
    "\n",
    "    \n",
    "\n",
    "\n",
    "\n",
    "\n"
   ]
  },
  {
   "cell_type": "markdown",
   "metadata": {},
   "source": [
    "Task 4"
   ]
  },
  {
   "cell_type": "code",
   "execution_count": 7,
   "metadata": {},
   "outputs": [
    {
     "output_type": "stream",
     "name": "stdout",
     "text": [
      "Средняя температура в странах:\n\nThailand - 23.9 C\nGermany - 13.8 C\nRussia - 3.7 C\nPoland - 12.0 C\n"
     ]
    }
   ],
   "source": [
    "countries_temperature = [\n",
    "    ['Thailand', [75.2, 77, 78.8, 73.4, 68, 75.2, 77]],\n",
    "    ['Germany', [57.2, 55.4, 59, 59, 53.6]],\n",
    "    ['Russia', [35.6, 37.4, 39.2, 41, 42.8, 39.2, 35.6]],\n",
    "    ['Poland', [50, 50, 53.6, 57.2, 55.4, 55.4]]\n",
    "]\n",
    "result=[]\n",
    "for items in countries_temperature:\n",
    "    countries, temperature = items\n",
    "    aver_temperature = round((sum(temperature)/len(temperature) - 32) * 5/9, 1)\n",
    "    result.append([countries, aver_temperature])\n",
    "print('Средняя температура в странах:\\n')\n",
    "for item in result:\n",
    "    countries, aver_temperature = item\n",
    "    print(f'{countries} - {aver_temperature} C')\n",
    "\n",
    "    "
   ]
  },
  {
   "cell_type": "markdown",
   "metadata": {},
   "source": [
    "Task 5"
   ]
  },
  {
   "cell_type": "code",
   "execution_count": 8,
   "metadata": {},
   "outputs": [
    {
     "output_type": "stream",
     "name": "stdout",
     "text": [
      "Среднее количество просмотров на уникального пользователя: 23.25\n"
     ]
    }
   ],
   "source": [
    "stream = [\n",
    "    '2018-01-01,user1,3',\n",
    "    '2018-01-07,user1,4',\n",
    "    '2018-03-29,user1,1',\n",
    "    '2018-04-04,user1,13',\n",
    "    '2018-01-05,user2,7',\n",
    "    '2018-06-14,user3,4',\n",
    "    '2018-07-02,user3,10',\n",
    "    '2018-03-21,user4,19',\n",
    "    '2018-03-22,user4,4',\n",
    "    '2018-04-22,user4,8',\n",
    "    '2018-05-03,user4,9',\n",
    "    '2018-05-11,user4,11',\n",
    "]\n",
    "users =[]\n",
    "sum_view = 0\n",
    "\n",
    "for items in stream:\n",
    "    date, user, view = items.split(',')\n",
    "    sum_view += int(view)\n",
    "    if user not in users:\n",
    "        users.append(user) \n",
    "average_views = round(sum_view / len(users), 2)\n",
    "print(f'Среднее количество просмотров на уникального пользователя: {average_views}')        \n"
   ]
  },
  {
   "cell_type": "code",
   "execution_count": 12,
   "metadata": {},
   "outputs": [
    {
     "output_type": "stream",
     "name": "stdout",
     "text": [
      "Результат:\n34 44\n"
     ]
    }
   ],
   "source": [
    "digits = input('Введите числа:\\n').split(' ')\n",
    "unique_numbers = []\n",
    "dublicat_array = []\n",
    "for digit in digits:\n",
    "    if digit not in unique_numbers:\n",
    "        unique_numbers.append(digit)\n",
    "        if digits.count(digit) > 1:\n",
    "            dublicat_array.append(digit)\n",
    "dublicat_array_str = ' '.join(dublicat_array)\n",
    "print(f'Результат:\\n{dublicat_array_str}')"
   ]
  }
 ],
 "metadata": {
  "kernelspec": {
   "name": "python3",
   "display_name": "Python 3.8.2 64-bit",
   "metadata": {
    "interpreter": {
     "hash": "20bf69066c0dd38d51965b69d5e1b6e387082e3198ba56e97997ac55f4e50ad0"
    }
   }
  },
  "language_info": {
   "codemirror_mode": {
    "name": "ipython",
    "version": 3
   },
   "file_extension": ".py",
   "mimetype": "text/x-python",
   "name": "python",
   "nbconvert_exporter": "python",
   "pygments_lexer": "ipython3",
   "version": "3.8.2-final"
  }
 },
 "nbformat": 4,
 "nbformat_minor": 4
}